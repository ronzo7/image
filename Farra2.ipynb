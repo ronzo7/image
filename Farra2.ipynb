{
 "cells": [
  {
   "cell_type": "code",
   "execution_count": null,
   "id": "15734257",
   "metadata": {},
   "outputs": [],
   "source": [
    "from skimage import io,filters,data\n",
    "import numpy as np\n",
    "img=data.coins()"
   ]
  },
  {
   "cell_type": "code",
   "execution_count": null,
   "id": "69895f33",
   "metadata": {},
   "outputs": [],
   "source": [
    "m,n=img.shape\n",
    "for i in range (0,m):\n",
    "    for j in range (0,n):\n",
    "        if img[i,j]>127:\n",
    "            img[i,j]=255\n",
    "        else:\n",
    "            img[i,j]=0\n",
    "io.imshow(img)"
   ]
  },
  {
   "cell_type": "code",
   "execution_count": null,
   "id": "b9e63f11",
   "metadata": {},
   "outputs": [],
   "source": [
    "def erosion(image):\n",
    "    \n",
    "    m,n=image.shape\n",
    "    img1=np.zeros([m,n])\n",
    "    for x in range (1,m-1):\n",
    "        for y in range (1,n-1):\n",
    "            sum=image[x-1,y-1]/255+image[x-1,y]/255+image[x-1,y+1]/255+image[x,y-1]/255+image[x,y]/255+image[x,y+1]/255+image[x+1,y-1]/255+image[x+1,y]/255+image[x+1,y+1]/255\n",
    "            if sum==9:\n",
    "                img1[x,y]=255\n",
    "            else:\n",
    "                img1[x,y]=0\n",
    "    img1=img1.astype(np.uint8)            \n",
    "    return img1\n",
    "\n",
    "img2=erosion(img)\n",
    "io.imshow(img2)"
   ]
  },
  {
   "cell_type": "code",
   "execution_count": null,
   "id": "1efc6f2b",
   "metadata": {},
   "outputs": [],
   "source": [
    "#Dialation\n",
    "def dilation(image):\n",
    "    \n",
    "    m,n=image.shape\n",
    "    img1=np.zeros([m,n])\n",
    "    for x in range (1,m-1):\n",
    "        for y in range (1,n-1):\n",
    "            sum=image[x-1,y-1]/255+image[x-1,y]/255+image[x-1,y+1]/255+image[x,y-1]/255+image[x,y]/255+image[x,y+1]/255+image[x+1,y-1]/255+image[x+1,y]/255+image[x+1,y+1]/255\n",
    "            sum=sum\n",
    "            if sum>0:\n",
    "                img1[x,y]=255\n",
    "            else:\n",
    "                img1[x,y]=0\n",
    "    img1=img1.astype(np.uint8)            \n",
    "    return img1\n",
    "img3=dilation(img)\n",
    "io.imshow(img3)"
   ]
  },
  {
   "cell_type": "code",
   "execution_count": null,
   "id": "1adee43f",
   "metadata": {},
   "outputs": [],
   "source": [
    "#opening\n",
    "cur=erosion(img)\n",
    "opening=dilation(cur)\n",
    "io.imshow(opening)"
   ]
  },
  {
   "cell_type": "code",
   "execution_count": null,
   "id": "6e59f7cf",
   "metadata": {},
   "outputs": [],
   "source": [
    "#closing\n",
    "cur1=dilation(img)\n",
    "closing=erosion(cur1)\n",
    "io.imshow(closing)"
   ]
  },
  {
   "cell_type": "code",
   "execution_count": null,
   "id": "780299e9",
   "metadata": {},
   "outputs": [],
   "source": [
    "#frequency domain codes\n",
    "from skimage import data,io,filters\n",
    "from skimage import io\n",
    "from skimage import color\n",
    "from skimage.restoration import denoise_nl_means, estimate_sigma\n",
    "\n",
    "import numpy as np\n",
    "from numpy.fft import fft, fftfreq, ifft\n",
    "\n",
    "from scipy import ndimage as nd\n",
    "from scipy.fft import fft, ifft\n",
    "from scipy import fftpack\n",
    "from PIL import Image, ImageDraw\n",
    "import matplotlib.pyplot as plt\n",
    "\n",
    "from math import sqrt\n",
    "from math import exp\n",
    "from skimage.util import random_noise"
   ]
  },
  {
   "cell_type": "code",
   "execution_count": null,
   "id": "d6413346",
   "metadata": {},
   "outputs": [],
   "source": [
    "image=data.camera()"
   ]
  },
  {
   "cell_type": "code",
   "execution_count": null,
   "id": "da302e32",
   "metadata": {},
   "outputs": [],
   "source": [
    "#printing FFT, Centered FFT, Decentralized FFT,\n",
    "plt.figure(figsize=(8, 6), constrained_layout=False)\n",
    "\n",
    "img_fft = np.fft.fft2(image)\n",
    "img_fftshift = np.fft.fftshift(img_fft)\n",
    "img_ifftshit = np.fft.ifftshift(img_fftshift)\n",
    "img_ifft = np.fft.ifft2(img_ifftshit)\n",
    "\n",
    "\n",
    "plt.subplot(231), plt.imshow(image, \"gray\"), plt.title(\"Original Image\")\n",
    "plt.subplot(232), plt.imshow(np.log(1+np.abs(img_fft)), \"gray\"), plt.title(\"Spectrum, FFT\")\n",
    "plt.subplot(233), plt.imshow(np.log(1+np.abs(img_fftshift)), \"gray\"), plt.title(\"Centered Spectrum\")\n",
    "plt.subplot(234), plt.imshow(np.log(1+np.abs(img_ifftshit)), \"gray\"), plt.title(\"Decentralized IFFT\")\n",
    "plt.subplot(235), plt.imshow(np.abs(img_ifft), \"gray\"), plt.title(\"Reversed Image\")\n",
    "\n",
    "plt.show()\n"
   ]
  },
  {
   "cell_type": "code",
   "execution_count": null,
   "id": "b375a6ec",
   "metadata": {},
   "outputs": [],
   "source": [
    "#Low pass\n",
    "def low_pass(img):\n",
    "    m,n=img.shape\n",
    "    D0=50\n",
    "    H=np.zeros((m,n),dtype=np.float32)\n",
    "    for x in range(m):\n",
    "        for y in range(n):\n",
    "            d=sqrt((x-m/2)*(x-m/2)+(y-n/2)*(y-n/2))\n",
    "            if(d<=D0):\n",
    "                H[x,y]=1\n",
    "            else:\n",
    "                H[x,y]=0\n",
    "    return H;\n",
    "\n",
    "\n",
    "\n",
    "#High Pass\n",
    "def high_pass(img):\n",
    "    m,n=img.shape\n",
    "    D0=50\n",
    "    H=np.zeros((m,n),dtype=np.float32)\n",
    "    for x in range(m):\n",
    "        for y in range(n):\n",
    "            d=sqrt((x-m/2)*(x-m/2)+(y-n/2)*(y-n/2))\n",
    "            if(d<=D0):\n",
    "                H[x,y]=0\n",
    "            else:\n",
    "                H[x,y]=1\n",
    "    return H;\n",
    "\n",
    "\n",
    "#Butter worth\n",
    "def BUTTER(img):\n",
    "    m,n=img.shape\n",
    "    D0=30\n",
    "    D1=60\n",
    "    H=np.zeros((m,n),dtype=np.float32)\n",
    "    for x in range(m):\n",
    "        for y in range(n):\n",
    "            d=sqrt((x-m/2)*(x-m/2)+(y-n/2)*(y-n/2))\n",
    "            if(d>=D0 and d<=D1):\n",
    "                H[x,y]=0\n",
    "            else:\n",
    "                H[x,y]=1\n",
    "    return H;    "
   ]
  },
  {
   "cell_type": "code",
   "execution_count": null,
   "id": "695f99b3",
   "metadata": {},
   "outputs": [],
   "source": [
    "img_fftshift=low_pass(img_fftshift)\n",
    "io.imshow(img_fftshift)"
   ]
  },
  {
   "cell_type": "code",
   "execution_count": null,
   "id": "6f4705f3",
   "metadata": {},
   "outputs": [],
   "source": [
    "#frequency domain filters High, low and Butter worth\n",
    "def Frequency_domain(image,filt):\n",
    "    \n",
    "    plt.figure(figsize=(8, 6), constrained_layout=False)\n",
    "\n",
    "    img_fft = np.fft.fft2(image)\n",
    "    img_fftshift = np.fft.fftshift(img_fft)\n",
    "    if(filt==\"L\"):\n",
    "        img_fftshift=img_fftshift*low_pass(img_fftshift)\n",
    "    elif(filt==\"H\"):\n",
    "        img_fftshift=img_fftshift*high_pass(img_fftshift)\n",
    "    else:\n",
    "        img_fftshift=img_fftshift*BUTTER(img_fftshift)\n",
    "        \n",
    "    img_ifftshit = np.fft.ifftshift(img_fftshift)\n",
    "    img_ifft = np.fft.ifft2(img_ifftshit)\n",
    "\n",
    "\n",
    "    plt.subplot(231), plt.imshow(image, \"gray\"), plt.title(\"Original Image\")\n",
    "    plt.subplot(232), plt.imshow(np.log(1+np.abs(img_fft)), \"gray\"), plt.title(\"Spectrum, FFT\")\n",
    "    plt.subplot(233), plt.imshow(np.log(1+np.abs(img_fftshift)), \"gray\"), plt.title(\"Centered Spectrum\")\n",
    "    plt.subplot(234), plt.imshow(np.log(1+np.abs(img_ifftshit)), \"gray\"), plt.title(\"Decentralized IFFT\")\n",
    "    plt.subplot(235), plt.imshow(np.abs(img_ifft), \"gray\"), plt.title(\"Reversed Image\")\n",
    "\n",
    "    plt.show()\n",
    "    \n"
   ]
  },
  {
   "cell_type": "code",
   "execution_count": null,
   "id": "80bd9b02",
   "metadata": {},
   "outputs": [],
   "source": [
    "#adding noise\n",
    "noise_img = random_noise(image, mode='s&p',amount=0.3)\n",
    "io.imshow(noise_img)"
   ]
  },
  {
   "cell_type": "code",
   "execution_count": null,
   "id": "07403df7",
   "metadata": {},
   "outputs": [],
   "source": [
    "frequency_fitered_image=Frequency_domain(noise_img,\"L\")\n",
    "frequency_fitered_image=Frequency_domain(noise_img,\"H\")\n",
    "frequency_fitered_image=Frequency_domain(noise_img,\"B\")"
   ]
  }
 ],
 "metadata": {
  "kernelspec": {
   "display_name": "Python 3 (ipykernel)",
   "language": "python",
   "name": "python3"
  },
  "language_info": {
   "codemirror_mode": {
    "name": "ipython",
    "version": 3
   },
   "file_extension": ".py",
   "mimetype": "text/x-python",
   "name": "python",
   "nbconvert_exporter": "python",
   "pygments_lexer": "ipython3",
   "version": "3.10.9"
  }
 },
 "nbformat": 4,
 "nbformat_minor": 5
}
